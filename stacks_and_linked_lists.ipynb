{
 "cells": [
  {
   "cell_type": "markdown",
   "id": "1fd5b8e5",
   "metadata": {},
   "source": [
    "### Linked lists, two versions , using a linked list and using an array"
   ]
  },
  {
   "cell_type": "code",
   "execution_count": 1,
   "id": "d329ed94",
   "metadata": {},
   "outputs": [],
   "source": [
    "class LinkedStackOfStrings {\n",
    "    private Node first = null;\n",
    "    private class Node {\n",
    "        String item;           // private inner class of linked items\n",
    "        Node next;             // this is effectively a pointer to another item in the linked list\n",
    "    }                          // the list starts off empty so first is set to null.\n",
    "    public boolean isEmpty() {\n",
    "        return first == null;\n",
    "    }\n",
    "    public void push(String item) {\n",
    "        Node oldFirst = first;\n",
    "        first = new Node();  // create a new node for each item and make sure it points back to the \n",
    "        first.item = item;    // previous item\n",
    "        first.next = oldFirst;\n",
    "    }\n",
    "    public String pop() {\n",
    "        if(isEmpty()) {\n",
    "            return new String(\"Stack is empty\");\n",
    "        }\n",
    "        String item = first.item;  // get the current item string\n",
    "        first = first.next;         // set first to now point to the next item in the list\n",
    "        return item;\n",
    "    }\n",
    "}"
   ]
  },
  {
   "cell_type": "markdown",
   "id": "6b89e9f1",
   "metadata": {},
   "source": [
    "#### Check by creating the class and adding items to it and then retrieving an item from it.  <br>\n",
    "#### Does it seem act like a stack."
   ]
  },
  {
   "cell_type": "code",
   "execution_count": 2,
   "id": "2382d943",
   "metadata": {},
   "outputs": [
    {
     "name": "stdout",
     "output_type": "stream",
     "text": [
      "changing\n"
     ]
    }
   ],
   "source": [
    "LinkedStackOfStrings s = new LinkedStackOfStrings();\n",
    "s.push(\"times\");\n",
    "s.push(\"are\");\n",
    "s.push(\"changing\");\n",
    "System.out.println(s.pop());"
   ]
  },
  {
   "cell_type": "markdown",
   "id": "b0ee03a5",
   "metadata": {},
   "source": [
    "#### Can we achieve the same thing in an array ?"
   ]
  },
  {
   "cell_type": "code",
   "execution_count": 16,
   "id": "f7382d72",
   "metadata": {},
   "outputs": [],
   "source": [
    "class ArrayStackOfStrings {\n",
    "    public String[] strs;\n",
    "    public int position;\n",
    "    \n",
    "    public ArrayStackOfStrings(int size) {\n",
    "        position = 0;\n",
    "        strs = new String[size];  \n",
    "    }\n",
    "    public boolean isEmpty() {\n",
    "        return strs[position - 1] == null;\n",
    "    }\n",
    "    public void push(String item) {\n",
    "        strs[position++] = item;\n",
    "    }\n",
    "    public String pop() {\n",
    "        if(isEmpty()) {\n",
    "            return new String(\"Stack is empty\");\n",
    "        }\n",
    "        return strs[--position];\n",
    "    }\n",
    "}"
   ]
  },
  {
   "cell_type": "code",
   "execution_count": 18,
   "id": "0062e27b",
   "metadata": {},
   "outputs": [
    {
     "data": {
      "text/plain": [
       "if"
      ]
     },
     "execution_count": 18,
     "metadata": {},
     "output_type": "execute_result"
    }
   ],
   "source": [
    "ArrayStackOfStrings alist = new ArrayStackOfStrings(10);\n",
    "alist.push(\"if\");\n",
    "alist.push(\"I had\");\n",
    "alist.pop();\n",
    "alist.pop();"
   ]
  },
  {
   "cell_type": "code",
   "execution_count": null,
   "id": "e5373453",
   "metadata": {},
   "outputs": [],
   "source": []
  }
 ],
 "metadata": {
  "kernelspec": {
   "display_name": "Java",
   "language": "java",
   "name": "java"
  },
  "language_info": {
   "codemirror_mode": "java",
   "file_extension": ".jshell",
   "mimetype": "text/x-java-source",
   "name": "Java",
   "pygments_lexer": "java",
   "version": "11.0.10+9"
  }
 },
 "nbformat": 4,
 "nbformat_minor": 5
}

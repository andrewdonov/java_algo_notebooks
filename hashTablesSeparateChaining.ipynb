{
 "cells": [
  {
   "cell_type": "markdown",
   "id": "e54a4b78",
   "metadata": {},
   "source": [
    "<h2>Hash Tables usage and construction </h2>"
   ]
  },
  {
   "cell_type": "markdown",
   "id": "8bfc4a7a",
   "metadata": {},
   "source": [
    "<p>What we are looking to do with hash tables is to create a number of buckets and distribute items equally into those buckets<p>"
   ]
  },
  {
   "cell_type": "markdown",
   "id": "cc98f9ce",
   "metadata": {},
   "source": [
    "<img src=\"images/hash_table.png\" alt=\"hash table\" style=\"height: 500px; width:700px;\"/>"
   ]
  },
  {
   "cell_type": "markdown",
   "id": "b9a6c9c0",
   "metadata": {},
   "source": [
    "<img src=\"images/hash_function.png\" alt=\"hash function\" style=\"height: 500px; width:700px;\"/>"
   ]
  },
  {
   "cell_type": "markdown",
   "id": "c5840f4c",
   "metadata": {},
   "source": [
    "<img src=\"images/hash_code_convention.png\" alt=\"hash code convention\" style=\"height: 500px; width:700px;\"/>"
   ]
  },
  {
   "cell_type": "markdown",
   "id": "8d5bb60b",
   "metadata": {},
   "source": [
    "<img src=\"images/hash_table_separate_chaining.png\" alt=\"hash_table_separate_chaining\" style=\"height: 700px; width:700px;\"/>"
   ]
  },
  {
   "cell_type": "code",
   "execution_count": 5,
   "id": "a9773134",
   "metadata": {},
   "outputs": [],
   "source": [
    "public class SeparateChainingHashST<Key,Value> {\n",
    "    private int number_of_chains = 10; // could set this in constructor\n",
    "    private Node[] st = new Node[number_of_chains];\n",
    "    \n",
    "    private static class Node {   // only one set of buckets\n",
    "        private Object key;       // cannot use generics when creating array so Object used  \n",
    "        private Object value;\n",
    "        private Node next;\n",
    "    }\n",
    "    private int hash(Key key) {\n",
    "        return (key.hashCode() & 0x7fffffff % number_of_chains); // make positive and within range\n",
    "                                                                // of number_of_chains or buckets\n",
    "    }\n",
    "    public Value get(Key key) {\n",
    "        int i = hash(key);  // which bucket \n",
    "        for(Node x = st[i]; x != null; x = x.next) { // loop through each linked item using next\n",
    "            if(key.equals(x.key)) {\n",
    "                return (Value) x.value;\n",
    "            }\n",
    "        }\n",
    "        return null;\n",
    "    }\n",
    "    public void put(Key key, Value value) {\n",
    "        int i = hash(key);  // which bucket \n",
    "        for(Node x = st[i]; x != null; x = x.next) { // loop through each linked item using next\n",
    "            if(key.equals(x.key)) {\n",
    "                x.value = value; // found the key update the value\n",
    "                return;\n",
    "            }\n",
    "        }\n",
    "        st[i] = new Node(key,value,st[i]); // no matching key therefore insert new Node in bucket i\n",
    "    }\n",
    "}"
   ]
  },
  {
   "cell_type": "code",
   "execution_count": null,
   "id": "a43368ca",
   "metadata": {},
   "outputs": [],
   "source": []
  }
 ],
 "metadata": {
  "kernelspec": {
   "display_name": "Java",
   "language": "java",
   "name": "java"
  },
  "language_info": {
   "codemirror_mode": "java",
   "file_extension": ".jshell",
   "mimetype": "text/x-java-source",
   "name": "Java",
   "pygments_lexer": "java",
   "version": "11.0.10+9"
  }
 },
 "nbformat": 4,
 "nbformat_minor": 5
}

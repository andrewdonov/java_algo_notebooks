{
 "cells": [
  {
   "cell_type": "code",
   "execution_count": 39,
   "id": "afcca3c7",
   "metadata": {},
   "outputs": [],
   "source": [
    "import java.util.Iterator;"
   ]
  },
  {
   "cell_type": "markdown",
   "id": "127b7a53",
   "metadata": {},
   "source": [
    "<img src=\"images/stacks_queues.png\" alt=\"stack queues\" style=\"height: 500px; width:700px;\"/>"
   ]
  },
  {
   "cell_type": "markdown",
   "id": "4ad41e71",
   "metadata": {},
   "source": [
    "Separate the interface from the implementation. Enables reuse of modules."
   ]
  },
  {
   "cell_type": "code",
   "execution_count": 2,
   "id": "3dc8c2dc",
   "metadata": {},
   "outputs": [],
   "source": [
    "public class LinkedListOfStrings {\n",
    "    private Node first; // initially null until something is pushed.\n",
    "    private class Node {  // nested private class for implementation of linked list\n",
    "        String item;      // for a nested class the modifiers do not matter and we can access item\n",
    "        Node next;        // and next from anywhere within the class.\n",
    "    }\n",
    "    public boolean isEmpty() {\n",
    "        return first == null;\n",
    "    }\n",
    "    public void push(String item) {\n",
    "        Node old_first = first;\n",
    "        first = new Node(); // first , above , is set to a new Node, which will point to the previous\n",
    "        first.item = item;  // next value of first , so the link effectively points downward to the \n",
    "        first.next = old_first;  // null initial item, first is always first and when we pop we set\n",
    "                                 // first to the next item of the popped item.\n",
    "    }\n",
    "    public String pop() {\n",
    "        String item = first.item;\n",
    "        first = first.next;\n",
    "        return item;\n",
    "    }\n",
    "}"
   ]
  },
  {
   "cell_type": "code",
   "execution_count": 3,
   "id": "0a89fdc1",
   "metadata": {},
   "outputs": [
    {
     "name": "stdout",
     "output_type": "stream",
     "text": [
      "goodbye\n"
     ]
    }
   ],
   "source": [
    "LinkedListOfStrings stack = new LinkedListOfStrings();\n",
    "stack.push(\"hello\");\n",
    "stack.push(\"goodbye\");\n",
    "System.out.println(stack.pop());"
   ]
  },
  {
   "cell_type": "code",
   "execution_count": 17,
   "id": "f543b407",
   "metadata": {},
   "outputs": [],
   "source": [
    "class ArrayStackOfStrings {\n",
    "    private String[] stack;\n",
    "    private int pointer = 0;\n",
    "    \n",
    "    ArrayStackOfStrings(int capacity) {\n",
    "        stack = new String[capacity];\n",
    "    }\n",
    "    public void push(String item) {\n",
    "        stack[pointer++] = item;\n",
    "    }\n",
    "    public String pop() {\n",
    "        String item = \"stack is empty\";\n",
    "        if(!isEmpty()) {\n",
    "            item = stack[--pointer];\n",
    "            stack[pointer] = null;\n",
    "            if (pointer > 0 && pointer == stack.length / 4) {\n",
    "                resetCapacity(stack.length / 2);\n",
    "            }\n",
    "        }\n",
    "        return item;\n",
    "        \n",
    "    }\n",
    "    public boolean isEmpty() {\n",
    "        return stack[0] == null;\n",
    "    }\n",
    "    public void resetCapacity(int capacity) {\n",
    "        String [] copy = new String[capacity];\n",
    "        for(int i = 0; i < pointer; i++) {\n",
    "            copy[i] = stack[i];\n",
    "        }\n",
    "        stack = copy;\n",
    "    }\n",
    "    \n",
    "}"
   ]
  },
  {
   "cell_type": "code",
   "execution_count": 18,
   "id": "e96717c7",
   "metadata": {},
   "outputs": [
    {
     "name": "stdout",
     "output_type": "stream",
     "text": [
      "goodbye\n"
     ]
    }
   ],
   "source": [
    "ArrayStackOfStrings stack = new ArrayStackOfStrings(10);\n",
    "stack.push(\"hello\");\n",
    "stack.push(\"goodbye\");\n",
    "System.out.println(stack.pop());"
   ]
  },
  {
   "cell_type": "markdown",
   "id": "d911189b",
   "metadata": {},
   "source": [
    "Queue linked list , now requiring two pointers , one to the end and one to the beginning.\n",
    "\n",
    "<img src=\"images/queue_linkedlist.png\" alt=\"queue linked list\" style=\"height: 500px; width:700px;\"/>"
   ]
  },
  {
   "cell_type": "code",
   "execution_count": 22,
   "id": "cf64d437",
   "metadata": {},
   "outputs": [],
   "source": [
    "public class LinkedQueueOfStrings {\n",
    "\n",
    "    private class Node {\n",
    "        String item;      // for a nested class the modifiers do not matter and we can access item\n",
    "        Node next;        // and next from anywhere within the class.\n",
    "    }\n",
    "    private Node first,last;\n",
    "    \n",
    "    public boolean isEmpty() {\n",
    "        return first == null;\n",
    "    }\n",
    "    public void enqueue(String item) {  // when we enqueue an item we go to the back of the queue\n",
    "        Node oldlast = last;\n",
    "        last = new Node();\n",
    "        last.item = item;\n",
    "        last.next = null;\n",
    "        if(isEmpty()) {\n",
    "            first = last;\n",
    "        }\n",
    "        else {\n",
    "            oldlast.next = last;\n",
    "        }\n",
    "    }\n",
    "    public String dequeue() {\n",
    "        String item = first.item;\n",
    "        first = first.next;\n",
    "        if(isEmpty()) {\n",
    "            last = null;\n",
    "        }\n",
    "        return item;\n",
    "    }\n",
    "}"
   ]
  },
  {
   "cell_type": "code",
   "execution_count": 23,
   "id": "2a3ec757",
   "metadata": {},
   "outputs": [
    {
     "name": "stdout",
     "output_type": "stream",
     "text": [
      "hello\n"
     ]
    }
   ],
   "source": [
    "LinkedQueueOfStrings q = new LinkedQueueOfStrings();\n",
    "q.enqueue(\"hello\");\n",
    "q.enqueue(\"goodbye\");\n",
    "System.out.println(q.dequeue());"
   ]
  },
  {
   "cell_type": "markdown",
   "id": "484edecd",
   "metadata": {},
   "source": [
    "And the array version"
   ]
  },
  {
   "cell_type": "code",
   "execution_count": 25,
   "id": "c4e16fc0",
   "metadata": {},
   "outputs": [],
   "source": [
    "public class ArrayQueueOfStrings {\n",
    "    private String[] stack;         // add reset capacity for queue, only copy from back to front\n",
    "    \n",
    "    private int front = 0;\n",
    "    private int back = 0;\n",
    "    \n",
    "    ArrayQueueOfStrings(int capacity) {\n",
    "        stack = new String[capacity];\n",
    "    }\n",
    "    \n",
    "    public boolean isEmpty() {\n",
    "        return back == front;\n",
    "    }\n",
    "    public void enqueue(String item) {  // when we enqueue an item we go to the back of the queue\n",
    "                                        // or the top of the array\n",
    "        stack[back++] = item;\n",
    "    }\n",
    "    public String dequeue() {\n",
    "        String item = \"queue empty\";\n",
    "        if(!isEmpty()) {\n",
    "            item = stack[front++];\n",
    "        }\n",
    "        return item;\n",
    "    }    \n",
    "}"
   ]
  },
  {
   "cell_type": "code",
   "execution_count": 27,
   "id": "c62ddadb",
   "metadata": {},
   "outputs": [
    {
     "name": "stdout",
     "output_type": "stream",
     "text": [
      "bus1\n"
     ]
    }
   ],
   "source": [
    "ArrayQueueOfStrings q = new ArrayQueueOfStrings(10);\n",
    "q.enqueue(\"bus1\");\n",
    "q.enqueue(\"bus2\");\n",
    "q.enqueue(\"bus3\");\n",
    "System.out.println(q.dequeue());"
   ]
  },
  {
   "cell_type": "markdown",
   "id": "1125f683",
   "metadata": {},
   "source": [
    "<b>Now try a generic stack </b>"
   ]
  },
  {
   "cell_type": "code",
   "execution_count": 29,
   "id": "254c2fa1",
   "metadata": {},
   "outputs": [],
   "source": [
    "public class Stack<Item> {   // basically replace String with the generic Item\n",
    "    private Node first; // initially null until something is pushed.\n",
    "    private class Node {  // nested private class for implementation of linked list\n",
    "        Item item;      // for a nested class the modifiers do not matter and we can access item\n",
    "        Node next;        // and next from anywhere within the class.\n",
    "    }\n",
    "    public boolean isEmpty() {\n",
    "        return first == null;\n",
    "    }\n",
    "    public void push(Item item) {\n",
    "        Node old_first = first;\n",
    "        first = new Node(); // first , above , is set to a new Node, which will point to the previous\n",
    "        first.item = item;  // next value of first , so the link effectively points downward to the \n",
    "        first.next = old_first;  // null initial item, first is always first and when we pop we set\n",
    "                                 // first to the next item of the popped item.\n",
    "    }\n",
    "    public Item pop() {\n",
    "        Item item = first.item;\n",
    "        first = first.next;\n",
    "        return item;\n",
    "    }\n",
    "}"
   ]
  },
  {
   "cell_type": "code",
   "execution_count": 38,
   "id": "5c4dbeb5",
   "metadata": {},
   "outputs": [
    {
     "name": "stdout",
     "output_type": "stream",
     "text": [
      "1\n"
     ]
    }
   ],
   "source": [
    "// try the stack with integers\n",
    "Stack<Integer> s = new Stack<Integer>();\n",
    "s.push(new Integer(2));\n",
    "s.push(new Integer(1));\n",
    "System.out.println(s.pop());"
   ]
  },
  {
   "cell_type": "markdown",
   "id": "dc1d2423",
   "metadata": {},
   "source": [
    "Now add iteration to the Stack by implementing iterable\n",
    "\n",
    "<img src=\"images/iterator.png\" alt=\"iterator\" style=\"height: 500px; width:700px;\"/>"
   ]
  },
  {
   "cell_type": "code",
   "execution_count": 40,
   "id": "f9a647ef",
   "metadata": {},
   "outputs": [],
   "source": [
    "public class Stack<Item> implements Iterable<Item> {   // implement the Iterable interface\n",
    "\n",
    "    \n",
    "                           // basically replace String with the generic Item\n",
    "    private Node first; // initially null until something is pushed.\n",
    "    private class Node {  // nested private class for implementation of linked list\n",
    "        Item item;      // for a nested class the modifiers do not matter and we can access item\n",
    "        Node next;        // and next from anywhere within the class.\n",
    "    }\n",
    "    public Iterator<Item> iterator() { // the iterator method returns a class instance of ListIterator\n",
    "        return new ListIterator(); // this fulfills the Iterable interface but we need to implement the\n",
    "                                  // the Iterator interface to fulfill hasNext and next\n",
    "    }\n",
    "    \n",
    "    private class ListIterator implements Iterator<Item>{    // ListIterator implements the \n",
    "        private Node current = first;                       // Iterator interface, providing the \n",
    "                                                           // facility to iterate through the stack\n",
    "        public boolean hasNext() {\n",
    "            return current != null;                       // remove functionality is not supported\n",
    "        }\n",
    "        public Item next() {\n",
    "            Item item = current.item;\n",
    "            current = current.next;\n",
    "            return item;\n",
    "        }\n",
    "    }\n",
    "    \n",
    "    public boolean isEmpty() {\n",
    "        return first == null;\n",
    "    }\n",
    "    public void push(Item item) {\n",
    "        Node old_first = first;\n",
    "        first = new Node(); // first , above , is set to a new Node, which will point to the previous\n",
    "        first.item = item;  // next value of first , so the link effectively points downward to the \n",
    "        first.next = old_first;  // null initial item, first is always first and when we pop we set\n",
    "                                 // first to the next item of the popped item.\n",
    "    }\n",
    "    public Item pop() {\n",
    "        Item item = first.item;\n",
    "        first = first.next;\n",
    "        return item;\n",
    "    }\n",
    "}"
   ]
  },
  {
   "cell_type": "code",
   "execution_count": 41,
   "id": "8616d814",
   "metadata": {},
   "outputs": [
    {
     "name": "stdout",
     "output_type": "stream",
     "text": [
      "0\n",
      "1\n",
      "2\n"
     ]
    }
   ],
   "source": [
    "// try iterating the stack of integers\n",
    "Stack<Integer> s = new Stack<Integer>();\n",
    "s.push(new Integer(2));\n",
    "s.push(new Integer(1));\n",
    "s.push(new Integer(0));\n",
    "for(Integer i: s) {\n",
    "    System.out.println(i);\n",
    "}"
   ]
  },
  {
   "cell_type": "markdown",
   "id": "bcd82916",
   "metadata": {},
   "source": [
    "For implementing an array version of the stack for iteration:\n",
    "\n",
    "<img src=\"images/iterable_for_array.png\" alt=\"iterable for array\" style=\"height: 500px; width:700px;\"/>"
   ]
  },
  {
   "cell_type": "markdown",
   "id": "b190846a",
   "metadata": {},
   "source": [
    "When order does not matter i.e. to implement a Bag class:\n",
    "\n",
    "<img src=\"images/bag.png\" alt=\"bag class\" style=\"height: 500px; width:700px;\"/>"
   ]
  },
  {
   "cell_type": "code",
   "execution_count": null,
   "id": "840f6f81",
   "metadata": {},
   "outputs": [],
   "source": []
  }
 ],
 "metadata": {
  "kernelspec": {
   "display_name": "Java",
   "language": "java",
   "name": "java"
  },
  "language_info": {
   "codemirror_mode": "java",
   "file_extension": ".jshell",
   "mimetype": "text/x-java-source",
   "name": "Java",
   "pygments_lexer": "java",
   "version": "11.0.10+9"
  }
 },
 "nbformat": 4,
 "nbformat_minor": 5
}

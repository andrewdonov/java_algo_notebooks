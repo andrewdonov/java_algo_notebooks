{
 "cells": [
  {
   "cell_type": "markdown",
   "id": "2a6677b0",
   "metadata": {},
   "source": [
    "<h1>Sorting in Java</h1>"
   ]
  },
  {
   "cell_type": "markdown",
   "id": "a6fdf2b8",
   "metadata": {},
   "source": [
    "<img src=\"images/callbacks.png\" alt=\"callbacks\" style=\"height: 500px; width:700px;\"/>"
   ]
  },
  {
   "cell_type": "markdown",
   "id": "70a1cfe7",
   "metadata": {},
   "source": [
    "<img src=\"images/callback_roadmap.png\" alt=\"callback roadmap\" style=\"height: 500px; width:700px;\"/>"
   ]
  },
  {
   "cell_type": "markdown",
   "id": "b358388e",
   "metadata": {},
   "source": [
    "The sort method effectively 'callsback' to the compareTo implementation i.e. the thing being sorted implements the Comparable interface"
   ]
  },
  {
   "cell_type": "markdown",
   "id": "e8e0cf75",
   "metadata": {},
   "source": [
    "<img src=\"images/sort_implementation.png\" alt=\"sort implementation\" style=\"height: 500px; width:700px;\"/>"
   ]
  },
  {
   "cell_type": "markdown",
   "id": "2270800c",
   "metadata": {},
   "source": [
    "Note that the sort method takes an argument of array of Comparable i.e. any type that implements Comparable can be passed in."
   ]
  },
  {
   "cell_type": "markdown",
   "id": "7c36950b",
   "metadata": {},
   "source": [
    "Below is an example of implementing the Comparable interface using dates."
   ]
  },
  {
   "cell_type": "markdown",
   "id": "3978239f",
   "metadata": {},
   "source": [
    "<img src=\"images/implementing_comparable.png\" alt=\"implementing comparable\" style=\"height: 500px; width:700px;\"/>"
   ]
  },
  {
   "cell_type": "markdown",
   "id": "7eb18ae8",
   "metadata": {},
   "source": [
    "To further abstract the sorting mechanism we can apply the following sorting utilities"
   ]
  },
  {
   "cell_type": "markdown",
   "id": "937311f1",
   "metadata": {},
   "source": [
    "<img src=\"images\\sort_utility_methods.png\" alt=\"sort utility methods\" style=\"height: 500px; width:700px;\"/>"
   ]
  },
  {
   "cell_type": "code",
   "execution_count": null,
   "id": "6762f401",
   "metadata": {},
   "outputs": [],
   "source": []
  }
 ],
 "metadata": {
  "kernelspec": {
   "display_name": "Java",
   "language": "java",
   "name": "java"
  },
  "language_info": {
   "codemirror_mode": "java",
   "file_extension": ".jshell",
   "mimetype": "text/x-java-source",
   "name": "Java",
   "pygments_lexer": "java",
   "version": "11.0.10+9"
  }
 },
 "nbformat": 4,
 "nbformat_minor": 5
}

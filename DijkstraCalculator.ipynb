{
 "cells": [
  {
   "cell_type": "markdown",
   "id": "ead08c5a",
   "metadata": {},
   "source": [
    "Building on top of our stack we can now implement a version of dijkstras calculator\n",
    "<img src=\"images/dijkstra_calculator.png\" alt=\"Dijkstra calculator\" style=\"height: 500px; width:700px;\"/>"
   ]
  },
  {
   "cell_type": "code",
   "execution_count": 16,
   "id": "966966b5",
   "metadata": {},
   "outputs": [],
   "source": [
    "class StackArray<Item> {\n",
    "    private Item[] stack;\n",
    "    private int pointer = 0;\n",
    "    \n",
    "    StackArray(int capacity) {\n",
    "        stack = (Item[]) new Object[capacity]; // generic array generation not allowed in java\n",
    "                                               // so cast to Item[]\n",
    "    }\n",
    "    public void push(Item item) {\n",
    "        stack[pointer++] = item;\n",
    "    }\n",
    "    public Item pop() {\n",
    "        Item item = (Item) new Object();\n",
    "        if(!isEmpty()) {\n",
    "            item = stack[--pointer];\n",
    "            stack[pointer] = null;\n",
    "            if (pointer > 0 && pointer == stack.length / 4) {\n",
    "                resetCapacity(stack.length / 2);\n",
    "            }\n",
    "        }\n",
    "        return item;\n",
    "        \n",
    "    }\n",
    "    public boolean isEmpty() {\n",
    "        return stack[0] == null;\n",
    "    }\n",
    "    public void resetCapacity(int capacity) {\n",
    "        Item[] copy = (Item[]) new Object[capacity];\n",
    "        for(int i = 0; i < pointer; i++) {\n",
    "            copy[i] = stack[i];\n",
    "        }\n",
    "        stack = copy;\n",
    "    }\n",
    "    \n",
    "}\n",
    "// we will get warning / error messages when we compile above but it is useable"
   ]
  },
  {
   "cell_type": "code",
   "execution_count": 53,
   "id": "8fa611a6",
   "metadata": {},
   "outputs": [
    {
     "name": "stdout",
     "output_type": "stream",
     "text": [
      "240.0\n"
     ]
    }
   ],
   "source": [
    "// try the stack with \n",
    "StackArray<String> operators = new StackArray<String>(10);\n",
    "StackArray<Double> values = new StackArray<Double>(10);\n",
    "String[] calculate = \"( ( + 2 4 ) * ( + 8 32 ) )\".split(\" \");\n",
    "for (String s: calculate) {\n",
    "   if(s.matches(\".*\\\\d.*\")) {\n",
    "        values.push(Double.parseDouble(s));\n",
    "    }\n",
    "    else if(s.matches(\"[+|-|*]\")) {\n",
    "        operators.push(s);\n",
    "    }\n",
    "    else if( s.equals(\")\") ) {\n",
    "        String calc = operators.pop();\n",
    "        if (calc.equals(\"+\")) {\n",
    "            values.push(values.pop() + values.pop());   \n",
    "        }\n",
    "        else if (calc.equals(\"-\")) {\n",
    "            values.push(values.pop() - values.pop());\n",
    "        }\n",
    "        else if (calc.equals(\"*\")) {\n",
    "            values.push(values.pop() * values.pop());\n",
    "        }\n",
    "    }\n",
    "}\n",
    "System.out.println(values.pop());"
   ]
  },
  {
   "cell_type": "code",
   "execution_count": 42,
   "id": "ac5d5fc1",
   "metadata": {},
   "outputs": [
    {
     "name": "stdout",
     "output_type": "stream",
     "text": [
      "32\n",
      "8\n",
      "4\n"
     ]
    }
   ],
   "source": [
    "\n",
    "\n"
   ]
  },
  {
   "cell_type": "code",
   "execution_count": null,
   "id": "10c90acc",
   "metadata": {},
   "outputs": [],
   "source": []
  }
 ],
 "metadata": {
  "kernelspec": {
   "display_name": "Java",
   "language": "java",
   "name": "java"
  },
  "language_info": {
   "codemirror_mode": "java",
   "file_extension": ".jshell",
   "mimetype": "text/x-java-source",
   "name": "Java",
   "pygments_lexer": "java",
   "version": "11.0.10+9"
  }
 },
 "nbformat": 4,
 "nbformat_minor": 5
}

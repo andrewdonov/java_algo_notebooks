{
 "cells": [
  {
   "cell_type": "markdown",
   "id": "49038907",
   "metadata": {},
   "source": [
    "### Dynamic Connectivity\n",
    "\n",
    "Steps to developing a useful algorithm <br>\n",
    "- model the problem\n",
    "- find an algorithm to solve it\n",
    "- fast enough , fits in memory ?\n",
    "- if not figure out why \n",
    "- find a way to address the problem\n",
    "- iterate until satisfied\n"
   ]
  },
  {
   "cell_type": "markdown",
   "id": "f3d6989c",
   "metadata": {},
   "source": [
    "![Dynamic connectivity](images/dc.png \"Dynamic connectivity\")"
   ]
  },
  {
   "cell_type": "code",
   "execution_count": 2,
   "id": "990e70dd",
   "metadata": {},
   "outputs": [],
   "source": [
    "public class UF {\n",
    "    private int arr[];\n",
    "    UF(int nu){\n",
    "        arr = new int[nu]; // constructor creates a new array of nu size\n",
    "    }\n",
    "    void union(int p, int q) {\n",
    "        // connect p to q by setting the value of p subscript to the q subscript\n",
    "        arr[p] = q;\n",
    "    }\n",
    "    boolean connected(int p , int q) {\n",
    "        // is p connected to q\n",
    "        if(arr[p] == q) { // does the value of p equal the subscript q\n",
    "            return true;\n",
    "        }\n",
    "        return false;\n",
    "    }\n",
    "}"
   ]
  },
  {
   "cell_type": "code",
   "execution_count": 7,
   "id": "94e66416",
   "metadata": {},
   "outputs": [
    {
     "name": "stdout",
     "output_type": "stream",
     "text": [
      "Enter p: 2\n",
      "Enter q: 3\n",
      "p and q are connected\n"
     ]
    }
   ],
   "source": [
    "import java.util.Scanner;\n",
    "\n",
    "Scanner in = new Scanner(System.in);\n",
    "\n",
    "System.out.print(\"Enter p: \");\n",
    "int p = in.nextInt();\n",
    "System.out.print(\"Enter q: \");\n",
    "int q = in.nextInt();\n",
    "\n",
    "UF dc = new UF(10);\n",
    "dc.union(p,q);\n",
    "if (dc.connected(p,q)) {\n",
    "    System.out.println(\"p and q are connected\");\n",
    "}"
   ]
  },
  {
   "cell_type": "markdown",
   "id": "46f404ff",
   "metadata": {},
   "source": [
    "### This works but to check if two nodes are connected we would need to look at the entries for both nodes and see if they have a connection.\n",
    "i.e. arr[0] points to element 8 , which means there is a connection but element 8 may be null or 0 <br>\n",
    "so we would might have to check both positions. In addition each node could only point to at most another <br>\n",
    "node. An alternative would be to set the elements to a common value if they are connected i.e. <br>\n",
    "arr[0] , arr[1] , arr[4] all have the same value , 1 , which means they are all connected."
   ]
  },
  {
   "cell_type": "code",
   "execution_count": 24,
   "id": "e25e0f56",
   "metadata": {},
   "outputs": [],
   "source": [
    "public class UF {\n",
    "    private int arr[];\n",
    "    private int sz;\n",
    "    UF(int nu){\n",
    "        arr = new int[nu];\n",
    "        sz = nu;\n",
    "        for (int i = 0 ; i < nu; i++) {  // intialize to subscript i.e. arr[0] = 0 , arr[1] = 1\n",
    "            arr[i] = i;               // therefore there are no connections\n",
    "        }\n",
    "    }\n",
    "    void union(int p, int q) {\n",
    "        // connect p to q i.e. update p to q keeping previous connections\n",
    "        // firstly get the value of p and q subscripts\n",
    "        int pid = arr[p];\n",
    "        int qid = arr[q];\n",
    "        for (int i = 0; i < sz; i++) {\n",
    "            if (arr[i] == pid) {      // any element of the array that equals value of element p \n",
    "                                    // this means we can retain existing connections\n",
    "                arr[i] = qid;         // now set this to value of element q\n",
    "            }\n",
    "        }\n",
    "    }\n",
    "    boolean connected(int p , int q) {\n",
    "        // is p connected to q\n",
    "        return arr[p] == arr[q];\n",
    "    }\n",
    "    void show() {\n",
    "        for (int i = 0; i < sz; i++) {\n",
    "             System.out.println(arr[i]);\n",
    "        }\n",
    "    }\n",
    "}"
   ]
  },
  {
   "cell_type": "code",
   "execution_count": 25,
   "id": "d3bdacbc",
   "metadata": {},
   "outputs": [
    {
     "name": "stdout",
     "output_type": "stream",
     "text": [
      "Enter p: 2\n",
      "Enter q: 4\n",
      "p and q are connected\n",
      "Enter p: 3\n",
      "Enter q: 4\n",
      "0\n",
      "1\n",
      "4\n",
      "4\n",
      "4\n",
      "5\n",
      "6\n",
      "7\n",
      "8\n",
      "9\n"
     ]
    }
   ],
   "source": [
    "Scanner in = new Scanner(System.in);\n",
    "UF dc = new UF(10);\n",
    "System.out.print(\"Enter p: \");\n",
    "int p = in.nextInt();\n",
    "System.out.print(\"Enter q: \");\n",
    "int q = in.nextInt();\n",
    "\n",
    "\n",
    "dc.union(p,q);\n",
    "if (dc.connected(p,q)) {\n",
    "    System.out.println(\"p and q are connected\");\n",
    "}\n",
    "System.out.print(\"Enter p: \");\n",
    "int p = in.nextInt();\n",
    "System.out.print(\"Enter q: \");\n",
    "int q = in.nextInt();\n",
    "dc.union(p,q);\n",
    "dc.show();"
   ]
  },
  {
   "cell_type": "markdown",
   "id": "54068038",
   "metadata": {},
   "source": [
    "#### How performant is out implementation, for the find the operation is quick requiring only two lookups.\n",
    "However for the union the entire array has to be visited."
   ]
  },
  {
   "cell_type": "markdown",
   "id": "4668990b",
   "metadata": {},
   "source": [
    "![Dynamic connectivity](images/quick_union.png \"Dynamic connectivity\")"
   ]
  },
  {
   "cell_type": "code",
   "execution_count": 32,
   "id": "ce27fcc8",
   "metadata": {},
   "outputs": [],
   "source": [
    "public class UF {\n",
    "    private int arr[];\n",
    "    private int sz;\n",
    "    UF(int nu){\n",
    "        arr = new int[nu];\n",
    "        sz = nu;\n",
    "        for (int i = 0 ; i < nu; i++) {  // intialize to subscript i.e. arr[0] = 0 , arr[1] = 1\n",
    "            arr[i] = i;               // therefore there are no connections\n",
    "        }\n",
    "    }\n",
    "    int root(int r) {\n",
    "        if (arr[r] == r) {\n",
    "            return r;\n",
    "        }\n",
    "        else return root(arr[r]);\n",
    "        /* \n",
    "        In the course this is implemented as a while loop\n",
    "        while ( r != arr[r]) {\n",
    "            r = arr[r]\n",
    "        }\n",
    "        return r\n",
    "        */\n",
    "    }\n",
    "    void union(int p, int q) {\n",
    "        // connect p to q i.e. update p to q , using the root value of each.\n",
    "        int i = root(p);\n",
    "        int j = root(q);\n",
    "        arr[p] = j;\n",
    "    }\n",
    "    boolean connected(int p , int q) {\n",
    "        return root(p) == root(q);\n",
    "    }\n",
    "    void show() {\n",
    "        for (int i = 0; i < sz; i++) {\n",
    "             System.out.println(arr[i]);\n",
    "        }\n",
    "    }\n",
    "}"
   ]
  },
  {
   "cell_type": "code",
   "execution_count": 34,
   "id": "7b29036b",
   "metadata": {},
   "outputs": [
    {
     "name": "stdout",
     "output_type": "stream",
     "text": [
      "Enter p: 4\n",
      "Enter q: 3\n",
      "Enter p: 3\n",
      "Enter q: 8\n",
      "0\n",
      "1\n",
      "2\n",
      "8\n",
      "3\n",
      "5\n",
      "6\n",
      "7\n",
      "8\n",
      "9\n"
     ]
    }
   ],
   "source": [
    "Scanner in = new Scanner(System.in);\n",
    "UF dc = new UF(10);\n",
    "System.out.print(\"Enter p: \");\n",
    "int p = in.nextInt();\n",
    "System.out.print(\"Enter q: \");\n",
    "int q = in.nextInt();\n",
    "dc.union(p,q);\n",
    "System.out.print(\"Enter p: \");\n",
    "int p = in.nextInt();\n",
    "System.out.print(\"Enter q: \");\n",
    "int q = in.nextInt();\n",
    "dc.union(p,q);\n",
    "dc.show();"
   ]
  },
  {
   "cell_type": "markdown",
   "id": "b8af7db1",
   "metadata": {},
   "source": [
    "#### Implementation has improved but ....\n",
    "The height of trees could become a problem as our utility root could potentially have search through tall skinny trees quite frequently."
   ]
  },
  {
   "cell_type": "markdown",
   "id": "2183dfff",
   "metadata": {},
   "source": [
    "![Dynamic connectivity](images/quick_union_improvements.png \"Dynamic connectivity\")"
   ]
  },
  {
   "cell_type": "markdown",
   "id": "2bc1d339",
   "metadata": {},
   "source": [
    "<img src=\"images/quick_union_weighted.png\" alt=\"Quick Union Observation\" style=\"height: 500px; width:700px;\"/>"
   ]
  },
  {
   "cell_type": "code",
   "execution_count": 45,
   "id": "2c51555f",
   "metadata": {},
   "outputs": [],
   "source": [
    "public class UF {\n",
    "    private int arr[];\n",
    "    private int nodecount[];\n",
    "    private int sz;\n",
    "    UF(int nu){\n",
    "        arr = new int[nu];\n",
    "        nodecount = new int[nu]; // should all be initialised to 0\n",
    "        sz = nu;\n",
    "        for (int i = 0 ; i < nu; i++) {  // intialize to subscript i.e. arr[0] = 0 , arr[1] = 1\n",
    "            arr[i] = i;               // therefore there are no connections\n",
    "        }\n",
    "        for (int i = 0 ; i < nu; i++) {  // each tree starts off with one node\n",
    "            nodecount[i] = 1;              \n",
    "        }\n",
    "    }\n",
    "    int root(int r) {\n",
    "        if (arr[r] == r) {\n",
    "            return r;\n",
    "        }\n",
    "        else return root(arr[r]);\n",
    "    }\n",
    "    void union(int p, int q) {\n",
    "        // connect p to q i.e. update p to q , using the root value of each.\n",
    "        int i = root(p);\n",
    "        int j = root(q);\n",
    "        if (i == j) {\n",
    "            return;\n",
    "        }\n",
    "        if (nodecount[i] < nodecount[j] ) { // check number of nodes or elements in each tree\n",
    "            arr[i] = j;                     // using the nodecount array.\n",
    "            nodecount[j] += nodecount[i];\n",
    "        }\n",
    "        else{\n",
    "            arr[j] = i;\n",
    "            nodecount[i] += nodecount[j];\n",
    "        }\n",
    "    }\n",
    "    boolean connected(int p , int q) {\n",
    "        return root(p) == root(q);\n",
    "    }\n",
    "    void show() {\n",
    "        for (int i = 0; i < sz; i++) {\n",
    "             System.out.println(arr[i]);\n",
    "        }\n",
    "        for (int i = 0; i < sz; i++) {\n",
    "             System.out.println(nodecount[i]);\n",
    "        }\n",
    "    }\n",
    "}"
   ]
  },
  {
   "cell_type": "code",
   "execution_count": 46,
   "id": "c5968681",
   "metadata": {},
   "outputs": [
    {
     "name": "stdout",
     "output_type": "stream",
     "text": [
      "Enter p: 2\n",
      "Enter q: 1\n",
      "Enter p: 5\n",
      "Enter q: 2\n",
      "0\n",
      "2\n",
      "2\n",
      "3\n",
      "4\n",
      "2\n",
      "6\n",
      "7\n",
      "8\n",
      "9\n",
      "1\n",
      "1\n",
      "3\n",
      "1\n",
      "1\n",
      "1\n",
      "1\n",
      "1\n",
      "1\n",
      "1\n"
     ]
    }
   ],
   "source": [
    "Scanner in = new Scanner(System.in);\n",
    "UF dc = new UF(10);\n",
    "System.out.print(\"Enter p: \");\n",
    "int p = in.nextInt();\n",
    "System.out.print(\"Enter q: \");\n",
    "int q = in.nextInt();\n",
    "dc.union(p,q);\n",
    "\n",
    "System.out.print(\"Enter p: \");\n",
    "int p = in.nextInt();\n",
    "System.out.print(\"Enter q: \");\n",
    "int q = in.nextInt();\n",
    "dc.union(p,q);\n",
    "dc.show();"
   ]
  },
  {
   "cell_type": "code",
   "execution_count": null,
   "id": "07e00f4c",
   "metadata": {},
   "outputs": [],
   "source": []
  }
 ],
 "metadata": {
  "kernelspec": {
   "display_name": "Java",
   "language": "java",
   "name": "java"
  },
  "language_info": {
   "codemirror_mode": "java",
   "file_extension": ".jshell",
   "mimetype": "text/x-java-source",
   "name": "Java",
   "pygments_lexer": "java",
   "version": "11.0.10+9"
  }
 },
 "nbformat": 4,
 "nbformat_minor": 5
}

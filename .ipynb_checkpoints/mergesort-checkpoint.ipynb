{
 "cells": [
  {
   "cell_type": "markdown",
   "id": "7db2f899",
   "metadata": {},
   "source": [
    "#### Mergesort"
   ]
  },
  {
   "cell_type": "markdown",
   "id": "48087412",
   "metadata": {},
   "source": [
    "<img src=\"images/merge_sort_basics.png\" alt=\"merge_sort_basics.png\" style=\"height: 500px; width:700px;\"/>"
   ]
  },
  {
   "cell_type": "markdown",
   "id": "59cacda2",
   "metadata": {},
   "source": [
    "<img src=\"images/merge.png\" alt=\"merge\" style=\"height: 500px; width:700px;\"/>"
   ]
  },
  {
   "cell_type": "code",
   "execution_count": 9,
   "id": "4ae21426",
   "metadata": {},
   "outputs": [],
   "source": [
    "public class MergeSort {\n",
    "    \n",
    "                                //  java -ea NameOfProgram\n",
    "    public static boolean isSorted(Comparable[] a, int low, int high) {\n",
    "        if (low == high) {\n",
    "            return true;\n",
    "        }\n",
    "        for(int i = low; i < high; i++) {\n",
    "            if (less(a[i],a[i++]) == false) {\n",
    "                return false;\n",
    "            }\n",
    "        }    \n",
    "        return true;\n",
    "    }\n",
    "    private static boolean less(Comparable v, Comparable w) {\n",
    "        return v.compareTo(w) < 0;\n",
    "    }\n",
    "    \n",
    "    private static void exch(Comparable[] a, int i, int j) {\n",
    "        Comparable t = aux[i];\n",
    "        aux[i] = a[j];\n",
    "        aux[j] = t;\n",
    "    }\n",
    "    public static void sort(Comparable[] a, Comparable[] aux,int lo, int hi) {\n",
    "        if(hi <= lo) {\n",
    "            return;\n",
    "        }\n",
    "        int mid = lo + (hi - lo) / 2;\n",
    "        sort(a,aux, lo, mid);\n",
    "        sort(a,aux, mid +1 ,hi);\n",
    "        merge(a,aux,lo,mid,hi);\n",
    "    }\n",
    "    \n",
    "    public static void sort(Comparable[] a) {\n",
    "        Comparable[] aux = new Comparable[a.length];  // an array that implements interface Comparable\n",
    "        sort(a,aux,0,a.length -1);\n",
    "    }\n",
    "\n",
    "    public static void merge(Comparable[] a, Comparable[] aux,int lo, int mid, int hi) {\n",
    "        int i = lo; \n",
    "        int j= mid+1;\n",
    "        \n",
    "        assert isSorted(a,lo,mid);   // fail if sub arrays are not sorted\n",
    "        assert isSorted(a,mid+1,hi);\n",
    "        \n",
    "        for(int k = lo; k <= hi; k++) {\n",
    "            aux[k] = a[k];      // copy the elements into aux array\n",
    "        }\n",
    "        for (int k = lo; k <= hi; k++) {\n",
    "            if (i > mid) {\n",
    "                a[k] = aux[j++];\n",
    "            }\n",
    "            else if(j > hi) {\n",
    "                a[k] = aux[i++];\n",
    "            }\n",
    "            else if(less(aux[j] , aux[i])) {\n",
    "                a[k] = aux[j++];\n",
    "            }\n",
    "            else {\n",
    "                a[k] = aux[i++];\n",
    "            }\n",
    "            \n",
    "        }\n",
    "        assert isSorted(a,lo,hi);\n",
    "    }\n",
    "}"
   ]
  },
  {
   "cell_type": "markdown",
   "id": "50891e08",
   "metadata": {},
   "source": [
    "<img src=\"images/trace_mergesort.png\" alt=\"trace merge sort\" style=\"height: 500px; width:700px;\"/>"
   ]
  },
  {
   "cell_type": "code",
   "execution_count": null,
   "id": "215a90fb",
   "metadata": {},
   "outputs": [],
   "source": []
  }
 ],
 "metadata": {
  "kernelspec": {
   "display_name": "Java",
   "language": "java",
   "name": "java"
  },
  "language_info": {
   "codemirror_mode": "java",
   "file_extension": ".jshell",
   "mimetype": "text/x-java-source",
   "name": "Java",
   "pygments_lexer": "java",
   "version": "11.0.10+9"
  }
 },
 "nbformat": 4,
 "nbformat_minor": 5
}

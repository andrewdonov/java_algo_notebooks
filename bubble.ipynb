{
 "cells": [
  {
   "cell_type": "markdown",
   "id": "c62e248e",
   "metadata": {},
   "source": [
    "## Java in a Jupyter Notebook, basically runs jshell."
   ]
  },
  {
   "cell_type": "code",
   "execution_count": 15,
   "id": "76db9c2c",
   "metadata": {},
   "outputs": [
    {
     "name": "stdout",
     "output_type": "stream",
     "text": [
      "hello jupyter  java world\n"
     ]
    }
   ],
   "source": [
    "System.out.println(\"hello jupyter \" + \" java world\");"
   ]
  },
  {
   "cell_type": "markdown",
   "id": "975098a5",
   "metadata": {},
   "source": [
    "#### No need to have a class, can run code segments."
   ]
  },
  {
   "cell_type": "code",
   "execution_count": 26,
   "id": "fd93cd49",
   "metadata": {},
   "outputs": [],
   "source": [
    "String twice(String s) {\n",
    "         return s + s;\n",
    "}"
   ]
  },
  {
   "cell_type": "code",
   "execution_count": 27,
   "id": "e9dfd9ff",
   "metadata": {},
   "outputs": [
    {
     "name": "stdout",
     "output_type": "stream",
     "text": [
      "happyhappy\n"
     ]
    }
   ],
   "source": [
    "System.out.println(twice(\"happy\"));"
   ]
  },
  {
   "cell_type": "code",
   "execution_count": 29,
   "id": "463ff6a0",
   "metadata": {},
   "outputs": [
    {
     "name": "stdout",
     "output_type": "stream",
     "text": [
      "2\n",
      "4\n",
      "5\n",
      "7\n"
     ]
    }
   ],
   "source": [
    "int[] numbers = {2,4,5,7};\n",
    "for(int i: numbers) {\n",
    "    System.out.println(i);\n",
    "}"
   ]
  },
  {
   "cell_type": "markdown",
   "id": "9fe41de2",
   "metadata": {},
   "source": [
    "#### Create a bubblesort class.\n",
    "Using a class to encapsulate the process.\n",
    "The utility swap method simply swaps two elements of an array.\n",
    "The main work is carried in the sort method."
   ]
  },
  {
   "cell_type": "markdown",
   "id": "2c68d923",
   "metadata": {},
   "source": [
    "<img src=\"images/bubble_sort.png\" alt=\"Quick Union Observation\" style=\"height: 500px; width:700px;\"/>"
   ]
  },
  {
   "cell_type": "code",
   "execution_count": 6,
   "id": "bbe0ba3d",
   "metadata": {},
   "outputs": [],
   "source": [
    "class BubbleSort {\n",
    "    private int[] arr;\n",
    "    private int nElements;\n",
    "\n",
    "public void swap(int index1, int index2) {\n",
    "    \n",
    "    int temp = arr[index1];\n",
    "    arr[index1] = arr[index2];\n",
    "    arr[index2] = temp;\n",
    "}\n",
    "public BubbleSort(int max) {\n",
    "    arr = new int[max]; // creates array, elements zeroed \n",
    "    nElements = 0;\n",
    "}\n",
    "public void insert(int item) {\n",
    "    arr[nElements] = item;\n",
    "    nElements++;\n",
    "}\n",
    "public void display() {\n",
    "    System.out.println(\"Array has the following elements: \");\n",
    "    for (int i : arr) {\n",
    "        System.out.println(i);\n",
    "    }\n",
    "}\n",
    "public void sort() {\n",
    "    int in;\n",
    "    int out;\n",
    "    for(out = nElements-1; out > 1; out--){\n",
    "        for(in=0;in < out; in++) {\n",
    "            if (arr[in] > arr[in+1])\n",
    "                swap(in,in+1);\n",
    "        }\n",
    "    }\n",
    "}\n",
    "} // end class"
   ]
  },
  {
   "cell_type": "code",
   "execution_count": 8,
   "id": "6d854e4f",
   "metadata": {},
   "outputs": [
    {
     "name": "stdout",
     "output_type": "stream",
     "text": [
      "Array has the following elements: \n",
      "8\n",
      "3\n",
      "1\n",
      "30\n",
      "14\n",
      "28\n",
      "Array has the following elements: \n",
      "1\n",
      "3\n",
      "8\n",
      "14\n",
      "28\n",
      "30\n"
     ]
    }
   ],
   "source": [
    "BubbleSort numbers = new BubbleSort(6);\n",
    "numbers.insert(8);\n",
    "numbers.insert(3);\n",
    "numbers.insert(1);\n",
    "numbers.insert(30);\n",
    "numbers.insert(14);\n",
    "numbers.insert(28);\n",
    "numbers.display();\n",
    "numbers.sort();\n",
    "numbers.display();\n"
   ]
  },
  {
   "cell_type": "markdown",
   "id": "b8776ce4",
   "metadata": {},
   "source": [
    "#### We can improve upon the algorithm slightly by adding a flag to the swap section.\n",
    "i.e. set the flag to false and each time a swap is made set the flag to true. if the flag is flag after the inner loop has completed and before the outer loop starts again then the list is in order. So in effect your steps would be\n",
    "- Start outer loop\n",
    "- initialise flag to false\n",
    "- complete inner loop setting flag to true if a swap is made\n",
    "- check flag , if it false then you are done.\n",
    "- continue with outer loop"
   ]
  },
  {
   "cell_type": "code",
   "execution_count": null,
   "id": "20f281e1",
   "metadata": {},
   "outputs": [],
   "source": []
  }
 ],
 "metadata": {
  "kernelspec": {
   "display_name": "Java",
   "language": "java",
   "name": "java"
  },
  "language_info": {
   "codemirror_mode": "java",
   "file_extension": ".jshell",
   "mimetype": "text/x-java-source",
   "name": "Java",
   "pygments_lexer": "java",
   "version": "11.0.10+9"
  }
 },
 "nbformat": 4,
 "nbformat_minor": 5
}
